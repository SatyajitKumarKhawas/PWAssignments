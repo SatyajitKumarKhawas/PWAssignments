{
 "cells": [
  {
   "cell_type": "markdown",
   "id": "6886dd88-20db-444c-91e1-470fb0e018c5",
   "metadata": {},
   "source": [
    "Q1. How do you comment code in Python? What are the different types of comments?\n",
    "\n",
    "In Python, you can write comments to provide explanations or context within your code. Comments are ignored by the Python interpreter and are meant for human readers to understand the code. There are 2 types of comments in python:\n",
    "SINGLE LINE COMMENT> Used for single line denoted by #\n",
    "MULTI LINE COMMENTS>Used for Multiple lines and denoted by \"\"\"  \"\"\""
   ]
  },
  {
   "cell_type": "markdown",
   "id": "d28a5e72-3444-444c-8ddf-36c9e7ab5440",
   "metadata": {},
   "source": [
    "Q2. What are variables in Python? How do you declare and assign values to variables?\n",
    "\n",
    "\n",
    "In Python, variables are used to store and manage data. They are essentially labels or names associated with values, allowing developers to refer to these values by a specific name. Variables are fundamental in programming as they enable the storage and manipulation of data during the execution of a program.\n",
    "Declaring and Assigning values to variables:\n",
    "variable_name = value\n",
    "\n"
   ]
  },
  {
   "cell_type": "markdown",
   "id": "6c859395-4429-4b41-86c9-1fad515d02a7",
   "metadata": {},
   "source": [
    "Q3. How do you convert one data type to another in Python?\n",
    "\n",
    "In Python, you can convert one data type to another using different conversion functions or techniques.\n",
    "Here's a summary of common data type conversions in Python:\n",
    "1. Implicit Type Conversion:\n",
    "Python automatically converts data types in certain situations, such as when performing operations involving different data types. For example, if you add an integer and a float, Python automatically converts the integer to a float for the operation:\n",
    "int_num = 5\n",
    "float_num = 3.14\n",
    "\n",
    "result = int_num + float_num >here int_num is converted to float from integer\n",
    "\n",
    "2. Explicit Type Conversion:\n",
    "You can explicitly convert data types using specific conversion functions. Here are some common ones:\n",
    "a. int(), float(), and str():\n",
    "Some examples>\n",
    "num_str = \"10\"\n",
    "num_int = int(num_str)  # Converts the string to an integer"
   ]
  },
  {
   "cell_type": "markdown",
   "id": "58f191fc-c917-49c2-9bee-27b5258bd7b8",
   "metadata": {},
   "source": [
    "To write and execute a Python script from the command line, follow these steps:\n",
    "\n",
    "    \n",
    "1. Write a Python Script:\n",
    "Using a text editor, create a new file and write your Python code. Save the file with a .py extension. For example, create a file named myscript.py with the following content:\n",
    "    print(\"Hello, World!\")\n",
    "2. Open the Command Line Interface:\n",
    "Open the command prompt (on Windows) or terminal (on macOS and Linux). You can search for \"cmd\" or \"terminal\" in the respective operating system's search bar to find and open the command line interface.\n",
    "\n",
    "3. Navigate to the Script's Directory:\n",
    "Use the cd command to navigate to the directory where your Python script is located. For example, if your script is on the desktop, type:"
   ]
  },
  {
   "cell_type": "code",
   "execution_count": 8,
   "id": "3f6e2425-160d-4741-955f-748eb346e67c",
   "metadata": {},
   "outputs": [
    {
     "name": "stdout",
     "output_type": "stream",
     "text": [
      "[[2, 3]]\n"
     ]
    }
   ],
   "source": [
    "#Q5. Given a list my_list = [1, 2, 3, 4, 5], write the code to slice the list and obtain the sub-list [2, 3].\n",
    "\n",
    "my_list=[1, 2, 3, 4, 5]\n",
    "sub_list=[]\n",
    "sub_list.append(my_list[1:3])\n",
    "print(sub_list)\n"
   ]
  },
  {
   "cell_type": "markdown",
   "id": "3924f2e6-3a05-45fb-8057-e232e74b1d9b",
   "metadata": {},
   "source": [
    "#Q6. What is a complex number in mathematics, and how is it represented in Python?\n",
    "\n",
    "In mathematics, a complex number is a number in the form of a+ib where a and b are real part and i is imaginary part.\n",
    "In Python we can generate complex number using \n",
    "\n",
    "1> Using complex() function\n",
    "a = complex(2, 3) #2+i3\n",
    "\n",
    "2> Using real and imaginary parts\n",
    "c = 4 + 2j        # 4 + 2i\n",
    "\n"
   ]
  },
  {
   "cell_type": "markdown",
   "id": "792f0e8c-53ec-4e8d-a5ab-1003230177c4",
   "metadata": {},
   "source": [
    "Q7. What is the correct way to declare a variable named age and assign the value 25 to it?\n",
    ">>age=25"
   ]
  },
  {
   "cell_type": "markdown",
   "id": "ec9be393-02fa-4826-ba62-eadb297818e7",
   "metadata": {},
   "source": [
    "Q8. Declare a variable named price and assign the value 9.99 to it. What data type does this variable belong to?\n",
    ">>price=9.99\n",
    "price variable belongs to FLOAT datatype"
   ]
  },
  {
   "cell_type": "markdown",
   "id": "982d1fc9-3122-4e7b-9ac2-9f793503cbbc",
   "metadata": {},
   "source": [
    "Q9.Create a variable named name and assign your full name to it as a string. How would you print the value of this variable?\n",
    ">> name=\"Satyajit Kumar Khawas\"\n",
    "To get the value we have to do typecasting which wil result in error\n",
    "print(int(name))"
   ]
  },
  {
   "cell_type": "code",
   "execution_count": 11,
   "id": "29a2939b-8b63-4747-a2ae-592928348026",
   "metadata": {},
   "outputs": [
    {
     "name": "stdout",
     "output_type": "stream",
     "text": [
      "World!\n"
     ]
    }
   ],
   "source": [
    "#Q10. Given the string \"Hello, World!\", extract the substring \"World\".\n",
    "\n",
    "stringss=\"Hello, World!\"\n",
    "print(stringss[7:13])"
   ]
  },
  {
   "cell_type": "code",
   "execution_count": null,
   "id": "3daacda9-0d1f-4768-aa3f-9b9d6bd13fc4",
   "metadata": {},
   "outputs": [],
   "source": [
    "#Q11. Create a variable named \"is_student\" and assign it a boolean value indicating whether you are currently a student or not.\n",
    "is_student=True  #Indicates currently I a student\n",
    "is_student=False #Indicates currently I a not a student"
   ]
  }
 ],
 "metadata": {
  "kernelspec": {
   "display_name": "Python 3 (ipykernel)",
   "language": "python",
   "name": "python3"
  },
  "language_info": {
   "codemirror_mode": {
    "name": "ipython",
    "version": 3
   },
   "file_extension": ".py",
   "mimetype": "text/x-python",
   "name": "python",
   "nbconvert_exporter": "python",
   "pygments_lexer": "ipython3",
   "version": "3.10.8"
  }
 },
 "nbformat": 4,
 "nbformat_minor": 5
}
