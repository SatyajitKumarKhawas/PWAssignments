{
 "cells": [
  {
   "cell_type": "markdown",
   "id": "644ae925-859f-4225-9e2c-c5d335f02e94",
   "metadata": {},
   "source": [
    "Q1>>\n",
    "string=\"Satyajit\"\n",
    "list=[\"krish\",3,True,3.3]\n",
    "float=8.8\n",
    "tuple=(1,\"qwerty\",8.98)\n"
   ]
  },
  {
   "cell_type": "markdown",
   "id": "6c8f1882-67bb-4150-89c7-afcb83cd1e0e",
   "metadata": {},
   "source": [
    "Q2>>\n",
    "string\n",
    "string\n",
    "list\n",
    "integer"
   ]
  },
  {
   "cell_type": "markdown",
   "id": "c2d78f13-f039-45fa-bfba-eee0c224ea10",
   "metadata": {},
   "source": [
    "Q3>>\n",
    "/--> This is used for division.    ex.4/2=0\n",
    "%-->This is used to get remainder.  ex5%2=1\n",
    "//-->This is used for floor division  ex5//2=2\n",
    "**--> This is used for putting powers to a number   ex.5**2+25"
   ]
  },
  {
   "cell_type": "code",
   "execution_count": 1,
   "id": "bb25ffdf-a71d-4418-bd4b-57819208b385",
   "metadata": {},
   "outputs": [
    {
     "name": "stdout",
     "output_type": "stream",
     "text": [
      "1\n",
      "<class 'int'>\n",
      "2\n",
      "<class 'int'>\n",
      "3\n",
      "<class 'int'>\n",
      "krish\n",
      "<class 'str'>\n",
      "sir\n",
      "<class 'str'>\n",
      "True\n",
      "<class 'bool'>\n",
      "9.0\n",
      "<class 'float'>\n",
      "78\n",
      "<class 'int'>\n",
      "56.76\n",
      "<class 'float'>\n",
      "hello\n",
      "<class 'str'>\n"
     ]
    }
   ],
   "source": [
    "#4>>\n",
    "l=[1,2,3,\"krish\",\"sir\",True,9.0,78,56.76,\"hello\"]\n",
    "for i in range(10):\n",
    "  print(l[i])\n",
    "  print(type(l[i]))\n",
    "   "
   ]
  },
  {
   "cell_type": "code",
   "execution_count": 3,
   "id": "70505dc3-4c39-473c-bf38-7e0d2dbc60f8",
   "metadata": {},
   "outputs": [
    {
     "name": "stdin",
     "output_type": "stream",
     "text": [
      "Enter the number A:  35\n",
      "Enter the number B:  6\n"
     ]
    },
    {
     "name": "stdout",
     "output_type": "stream",
     "text": [
      "The number 35 is not purely divisible by 6.\n"
     ]
    }
   ],
   "source": [
    "#5>>>\n",
    "A = int(input(\"Enter the number A: \"))\n",
    "B = int(input(\"Enter the number B: \"))\n",
    "count = 0\n",
    "\n",
    "while A % B == 0:\n",
    "  A = A // B\n",
    "  count += 1\n",
    "\n",
    "if count > 0:\n",
    "  print(f\"The number {A} is purely divisible by {B} {count} times.\")\n",
    "else:\n",
    "  print(f\"The number {A} is not purely divisible by {B}.\")\n"
   ]
  },
  {
   "cell_type": "code",
   "execution_count": 1,
   "id": "cc167c76-646c-4921-9c18-e239c74e6ea7",
   "metadata": {},
   "outputs": [
    {
     "name": "stdout",
     "output_type": "stream",
     "text": [
      "1is not divisible by 3\n",
      "2is not divisible by 3\n",
      "3is divisible by 3\n",
      "4is not divisible by 3\n",
      "5is not divisible by 3\n",
      "6is divisible by 3\n",
      "7is not divisible by 3\n",
      "8is not divisible by 3\n",
      "9is divisible by 3\n",
      "10is not divisible by 3\n",
      "11is not divisible by 3\n",
      "12is divisible by 3\n",
      "13is not divisible by 3\n",
      "14is not divisible by 3\n",
      "15is divisible by 3\n",
      "16is not divisible by 3\n",
      "17is not divisible by 3\n",
      "18is divisible by 3\n",
      "19is not divisible by 3\n",
      "20is not divisible by 3\n",
      "21is divisible by 3\n",
      "22is not divisible by 3\n",
      "23is not divisible by 3\n",
      "24is divisible by 3\n",
      "25is not divisible by 3\n"
     ]
    }
   ],
   "source": [
    "#6>>\n",
    "my_list=[1,2,3,4,5,6,7,8,9,10,11,12,13,14,15,16,17,18,19,20,21,22,23,24,25]\n",
    "for i in range(0,25):\n",
    "    if (my_list[i]%3==0):\n",
    "        print(str(my_list[i]) +\"is divisible by 3\")\n",
    "    else:\n",
    "         print(str(my_list[i]) +\"is not divisible by 3\")"
   ]
  },
  {
   "cell_type": "markdown",
   "id": "718fb8f0-2add-4354-bbde-2405825a96aa",
   "metadata": {},
   "source": [
    "Q7..\n",
    "In programming, mutable and immutable data types refer to whether a variable's value can be changed after it is created. Mutable data types are those whose values can be modified or altered, while immutable data types are fixed and cannot be changed once they are created.\n",
    "\n",
    "Mutable Examples:\n",
    "Lists, dictionaries, and sets in Python are mutable. For instance, consider a list:\n",
    "mut\n"
   ]
  }
 ],
 "metadata": {
  "kernelspec": {
   "display_name": "Python 3 (ipykernel)",
   "language": "python",
   "name": "python3"
  },
  "language_info": {
   "codemirror_mode": {
    "name": "ipython",
    "version": 3
   },
   "file_extension": ".py",
   "mimetype": "text/x-python",
   "name": "python",
   "nbconvert_exporter": "python",
   "pygments_lexer": "ipython3",
   "version": "3.10.8"
  }
 },
 "nbformat": 4,
 "nbformat_minor": 5
}
